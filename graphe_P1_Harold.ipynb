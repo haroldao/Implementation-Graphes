{
  "nbformat": 4,
  "nbformat_minor": 0,
  "metadata": {
    "kernelspec": {
      "display_name": "Python 3",
      "language": "python",
      "name": "python3"
    },
    "language_info": {
      "codemirror_mode": {
        "name": "ipython",
        "version": 3
      },
      "file_extension": ".py",
      "mimetype": "text/x-python",
      "name": "python",
      "nbconvert_exporter": "python",
      "pygments_lexer": "ipython3",
      "version": "3.6.4"
    },
    "colab": {
      "name": "graphe_P1_Harold.ipynb",
      "provenance": [],
      "include_colab_link": true
    }
  },
  "cells": [
    {
      "cell_type": "markdown",
      "metadata": {
        "id": "view-in-github",
        "colab_type": "text"
      },
      "source": [
        "<a href=\"https://colab.research.google.com/github/haroldao/Implementation-Graphes/blob/main/graphe_P1_Harold.ipynb\" target=\"_parent\"><img src=\"https://colab.research.google.com/assets/colab-badge.svg\" alt=\"Open In Colab\"/></a>"
      ]
    },
    {
      "cell_type": "markdown",
      "metadata": {
        "id": "7X5HzR42S9RB"
      },
      "source": [
        "# Cours graphe partie 1\n",
        "## C. Implémentation d'un graphe en Python"
      ]
    },
    {
      "cell_type": "code",
      "metadata": {
        "colab": {
          "base_uri": "https://localhost:8080/"
        },
        "id": "joZOo147S9RK",
        "outputId": "51f81f6f-4552-4510-d217-3e480cd454d2"
      },
      "source": [
        "#Matrice d'adjacences associée au graphe 1 non-orienté \n",
        "m = [[0, 1, 1, 0, 1, 0],\n",
        "     [1, 0, 0, 1, 0, 1],\n",
        "     [1, 0, 0, 0, 1, 1],\n",
        "     [0, 1, 0, 0, 0, 0],\n",
        "     [1, 0, 1, 0, 0, 0],\n",
        "     [0, 1, 1, 0, 0, 0]]\n",
        "print(m)"
      ],
      "execution_count": 4,
      "outputs": [
        {
          "output_type": "stream",
          "text": [
            "[[0, 1, 1, 0, 1, 0], [1, 0, 0, 1, 0, 1], [1, 0, 0, 0, 1, 1], [0, 1, 0, 0, 0, 0], [1, 0, 1, 0, 0, 0], [0, 1, 1, 0, 0, 0]]\n"
          ],
          "name": "stdout"
        }
      ]
    },
    {
      "cell_type": "markdown",
      "metadata": {
        "id": "5IN1PNFAS9RM"
      },
      "source": [
        "Coder en python une fonction qui a partir de la liste des personnes et de la matrice d'adjacence renvoie pour chaque \n",
        "personnes sous forme d'un dictionnaire, dans un tuple:\n",
        "- le nombre d'ami(s)\n",
        "- la liste des amis de chaque personne"
      ]
    },
    {
      "cell_type": "code",
      "metadata": {
        "id": "0lDKse8xS9RN"
      },
      "source": [
        "def analyse_reseau(liste, matrice ):\n",
        "    print(\"test\")"
      ],
      "execution_count": 7,
      "outputs": []
    },
    {
      "cell_type": "code",
      "metadata": {
        "id": "-DARb9JRS9RO"
      },
      "source": [
        "n = len(m)\n",
        "etiquettes = [chr(ord('A') + i) for i in range(n)]\n",
        "print(etiquettes)\n",
        "# analyse_reseau(etiquettes,m)"
      ],
      "execution_count": 6,
      "outputs": []
    },
    {
      "cell_type": "markdown",
      "metadata": {
        "id": "FO2vn4mTS9RO"
      },
      "source": [
        "### C.1.4 - Cas des graphes orientés    "
      ]
    },
    {
      "cell_type": "code",
      "metadata": {
        "id": "lx1NmFHfS9RP",
        "outputId": "05fd1699-da1b-46fe-e5dd-6ed6c20b4e51"
      },
      "source": [
        "#matrice d'adjacence graphe 2 orienté\n",
        "mo = [[0, 1, 1, 0, 1, 0],\n",
        "     [1, 0, 1, 1, 0, 0],\n",
        "     [0, 0, 0, 0, 0, 1],\n",
        "     [0, 0, 1, 0, 1, 1],\n",
        "     [1, 0, 1, 0, 0, 0],\n",
        "     [0, 0, 1, 1, 1, 0]]\n",
        "no = len(mo)\n",
        "etiquettes = [chr(ord('A') + i) for i in range(no)]\n",
        "print(etiquettes)\n",
        "\n",
        "print(mo)"
      ],
      "execution_count": null,
      "outputs": [
        {
          "output_type": "stream",
          "text": [
            "['A', 'B', 'C', 'D', 'E', 'F']\n",
            "[[0, 1, 1, 0, 1, 0], [1, 0, 1, 1, 0, 0], [0, 0, 0, 0, 0, 1], [0, 0, 1, 0, 1, 1], [1, 0, 1, 0, 0, 0], [0, 0, 1, 1, 1, 0]]\n"
          ],
          "name": "stdout"
        }
      ]
    },
    {
      "cell_type": "code",
      "metadata": {
        "id": "QpEAQ8NGS9RP"
      },
      "source": [
        "def suiveur_suivi(liste , matrice) :\n",
        "    pass"
      ],
      "execution_count": null,
      "outputs": []
    },
    {
      "cell_type": "code",
      "metadata": {
        "id": "RuZ9MYkRS9RP"
      },
      "source": [
        ""
      ],
      "execution_count": null,
      "outputs": []
    },
    {
      "cell_type": "code",
      "metadata": {
        "id": "wVEUaPqoS9RQ"
      },
      "source": [
        ""
      ],
      "execution_count": null,
      "outputs": []
    },
    {
      "cell_type": "markdown",
      "metadata": {
        "id": "GVroeqyyS9RQ"
      },
      "source": [
        "### C.2.1 - Comment constituer la liste des successeurs / prédécesseurs       :   "
      ]
    },
    {
      "cell_type": "code",
      "metadata": {
        "id": "Ks2VobogS9RR"
      },
      "source": [
        ""
      ],
      "execution_count": null,
      "outputs": []
    },
    {
      "cell_type": "code",
      "metadata": {
        "id": "Wpj17PMeS9RR"
      },
      "source": [
        "def matrice_liste(liste, matrice ):\n",
        "    pass"
      ],
      "execution_count": null,
      "outputs": []
    },
    {
      "cell_type": "code",
      "metadata": {
        "id": "u-9K2BjCS9RR"
      },
      "source": [
        ""
      ],
      "execution_count": null,
      "outputs": []
    },
    {
      "cell_type": "markdown",
      "metadata": {
        "id": "oUfFDafUS9RS"
      },
      "source": [
        "### C.2.2 - Générer la matrice d'adjacence à partir d'une liste d'adjacence :  "
      ]
    },
    {
      "cell_type": "code",
      "metadata": {
        "id": "5A7o1QVkS9RS"
      },
      "source": [
        "def liste_matrice(graphe) :\n",
        "    pass"
      ],
      "execution_count": null,
      "outputs": []
    },
    {
      "cell_type": "code",
      "metadata": {
        "id": "G4P55HyvS9RS"
      },
      "source": [
        ""
      ],
      "execution_count": null,
      "outputs": []
    }
  ]
}