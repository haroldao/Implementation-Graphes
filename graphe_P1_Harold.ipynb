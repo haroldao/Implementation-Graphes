{
  "nbformat": 4,
  "nbformat_minor": 0,
  "metadata": {
    "colab": {
      "name": "graphe_P1_Harold.ipynb",
      "provenance": [],
      "toc_visible": true,
      "include_colab_link": true
    },
    "kernelspec": {
      "display_name": "Python 3",
      "language": "python",
      "name": "python3"
    },
    "language_info": {
      "codemirror_mode": {
        "name": "ipython",
        "version": 3
      },
      "file_extension": ".py",
      "mimetype": "text/x-python",
      "name": "python",
      "nbconvert_exporter": "python",
      "pygments_lexer": "ipython3",
      "version": "3.6.4"
    }
  },
  "cells": [
    {
      "cell_type": "markdown",
      "metadata": {
        "id": "view-in-github",
        "colab_type": "text"
      },
      "source": [
        "<a href=\"https://colab.research.google.com/github/haroldao/Implementation-Graphes/blob/main/graphe_P1_Harold.ipynb\" target=\"_parent\"><img src=\"https://colab.research.google.com/assets/colab-badge.svg\" alt=\"Open In Colab\"/></a>"
      ]
    },
    {
      "cell_type": "markdown",
      "metadata": {
        "id": "7X5HzR42S9RB"
      },
      "source": [
        "# Cours graphe partie 1\n",
        "## C. Implémentation d'un graphe en Python"
      ]
    },
    {
      "cell_type": "code",
      "metadata": {
        "colab": {
          "base_uri": "https://localhost:8080/"
        },
        "id": "joZOo147S9RK",
        "outputId": "7c22d897-50ba-4411-bd16-7c99ee7c8244"
      },
      "source": [
        "#Matrice d'adjacences associée au graphe 1 non-orienté \n",
        "m = [[0, 1, 1, 0, 1, 0],\n",
        "     [1, 0, 0, 1, 0, 1],\n",
        "     [1, 0, 0, 0, 1, 1],\n",
        "     [0, 1, 0, 0, 0, 0],\n",
        "     [1, 0, 1, 0, 0, 0],\n",
        "     [0, 1, 1, 0, 0, 0]]\n",
        "print(m)"
      ],
      "execution_count": null,
      "outputs": [
        {
          "output_type": "stream",
          "text": [
            "[[0, 1, 1, 0, 1, 0], [1, 0, 0, 1, 0, 1], [1, 0, 0, 0, 1, 1], [0, 1, 0, 0, 0, 0], [1, 0, 1, 0, 0, 0], [0, 1, 1, 0, 0, 0]]\n"
          ],
          "name": "stdout"
        }
      ]
    },
    {
      "cell_type": "markdown",
      "metadata": {
        "id": "5IN1PNFAS9RM"
      },
      "source": [
        "Coder en python une fonction qui a partir de la liste des personnes et de la matrice d'adjacence renvoie pour chaque \n",
        "personnes sous forme d'un dictionnaire, dans un tuple:\n",
        "- le nombre d'ami(s)\n",
        "- la liste des amis de chaque personne"
      ]
    },
    {
      "cell_type": "code",
      "metadata": {
        "id": "0lDKse8xS9RN"
      },
      "source": [
        "def analyse_reseau(liste, matrice):\n",
        "  a=0\n",
        "  lis=[]\n",
        "  dico={}\n",
        "  for j in range(len(liste)):\n",
        "    dico[liste[j]]=0,0\n",
        "    # print(dico)\n",
        "  for i in range(len(liste)):\n",
        "    for k in range(len(matrice)):\n",
        "      if matrice[a][k] == 1:\n",
        "        lis.append(liste[k])\n",
        "        # print(\"liste k\", liste[k])\n",
        "    dico.update({liste[a]:(len(lis),lis)})\n",
        "    # print(len(lis),lis)\n",
        "    lis=[]\n",
        "    a=a+1\n",
        "    print(dico)\n",
        "  for key, value in dico.items():\n",
        "    print(key, ':', value)    \n",
        "\n",
        "\n",
        "\n",
        "      "
      ],
      "execution_count": null,
      "outputs": []
    },
    {
      "cell_type": "code",
      "metadata": {
        "colab": {
          "base_uri": "https://localhost:8080/"
        },
        "id": "-DARb9JRS9RO",
        "outputId": "3c845214-0423-4038-992d-87a6a9cd92dd"
      },
      "source": [
        "n = len(m)\n",
        "etiquettes = [chr(ord('A') + i) for i in range(n)]\n",
        "# print(etiquettes)\n",
        "analyse_reseau(etiquettes, m)"
      ],
      "execution_count": null,
      "outputs": [
        {
          "output_type": "stream",
          "text": [
            "{'A': (3, ['B', 'C', 'E']), 'B': (0, 0), 'C': (0, 0), 'D': (0, 0), 'E': (0, 0), 'F': (0, 0)}\n",
            "{'A': (3, ['B', 'C', 'E']), 'B': (3, ['A', 'D', 'F']), 'C': (0, 0), 'D': (0, 0), 'E': (0, 0), 'F': (0, 0)}\n",
            "{'A': (3, ['B', 'C', 'E']), 'B': (3, ['A', 'D', 'F']), 'C': (3, ['A', 'E', 'F']), 'D': (0, 0), 'E': (0, 0), 'F': (0, 0)}\n",
            "{'A': (3, ['B', 'C', 'E']), 'B': (3, ['A', 'D', 'F']), 'C': (3, ['A', 'E', 'F']), 'D': (1, ['B']), 'E': (0, 0), 'F': (0, 0)}\n",
            "{'A': (3, ['B', 'C', 'E']), 'B': (3, ['A', 'D', 'F']), 'C': (3, ['A', 'E', 'F']), 'D': (1, ['B']), 'E': (2, ['A', 'C']), 'F': (0, 0)}\n",
            "{'A': (3, ['B', 'C', 'E']), 'B': (3, ['A', 'D', 'F']), 'C': (3, ['A', 'E', 'F']), 'D': (1, ['B']), 'E': (2, ['A', 'C']), 'F': (2, ['B', 'C'])}\n",
            "A : (3, ['B', 'C', 'E'])\n",
            "B : (3, ['A', 'D', 'F'])\n",
            "C : (3, ['A', 'E', 'F'])\n",
            "D : (1, ['B'])\n",
            "E : (2, ['A', 'C'])\n",
            "F : (2, ['B', 'C'])\n"
          ],
          "name": "stdout"
        }
      ]
    },
    {
      "cell_type": "markdown",
      "metadata": {
        "id": "FO2vn4mTS9RO"
      },
      "source": [
        "### C.1.4 - Cas des graphes orientés    "
      ]
    },
    {
      "cell_type": "code",
      "metadata": {
        "id": "lx1NmFHfS9RP",
        "colab": {
          "base_uri": "https://localhost:8080/"
        },
        "outputId": "01416155-c6f2-4ca7-a792-b4f1279c7c0a"
      },
      "source": [
        "#matrice d'adjacence graphe 2 orienté\n",
        "mo = [[0, 1, 1, 0, 1, 0],\n",
        "     [1, 0, 1, 1, 0, 0],\n",
        "     [0, 0, 0, 0, 0, 1],\n",
        "     [0, 0, 1, 0, 1, 1],\n",
        "     [1, 0, 1, 0, 0, 0],\n",
        "     [0, 0, 1, 1, 1, 0]]\n",
        "no = len(mo)\n",
        "etiquettes = [chr(ord('A') + i) for i in range(no)]\n",
        "print(etiquettes)\n",
        "\n",
        "print(mo)"
      ],
      "execution_count": null,
      "outputs": [
        {
          "output_type": "stream",
          "text": [
            "['A', 'B', 'C', 'D', 'E', 'F']\n",
            "[[0, 1, 1, 0, 1, 0], [1, 0, 1, 1, 0, 0], [0, 0, 0, 0, 0, 1], [0, 0, 1, 0, 1, 1], [1, 0, 1, 0, 0, 0], [0, 0, 1, 1, 1, 0]]\n"
          ],
          "name": "stdout"
        }
      ]
    },
    {
      "cell_type": "code",
      "metadata": {
        "id": "QpEAQ8NGS9RP",
        "colab": {
          "base_uri": "https://localhost:8080/",
          "height": 129
        },
        "outputId": "624d8c3c-5539-4db6-aac3-c7d816aaf59f"
      },
      "source": [
        "def suiveur_suivi(liste, matrice):\n",
        "  a=0\n",
        "  dico={}\n",
        "  for j in range(len(liste)):\n",
        "    dico[liste[j]]=0,0,0\n",
        "  for i in range(len(liste)):\n",
        "    for k in range(len(matrice)):\n",
        "      if matrice[a][k] == 1:\n",
        "        lis.append(liste[k])\n",
        "        # print(\"liste k\", liste[k])\n",
        "    dico.update({liste[a]:})\n",
        "    # print(len(lis),lis)\n",
        "    a=a+1\n",
        "    print(dico)\n",
        "            "
      ],
      "execution_count": 162,
      "outputs": [
        {
          "output_type": "error",
          "ename": "SyntaxError",
          "evalue": "ignored",
          "traceback": [
            "\u001b[0;36m  File \u001b[0;32m\"<ipython-input-162-a9dbf889e7b0>\"\u001b[0;36m, line \u001b[0;32m11\u001b[0m\n\u001b[0;31m    dico.update({liste[a]:})\u001b[0m\n\u001b[0m                          ^\u001b[0m\n\u001b[0;31mSyntaxError\u001b[0m\u001b[0;31m:\u001b[0m invalid syntax\n"
          ]
        }
      ]
    },
    {
      "cell_type": "code",
      "metadata": {
        "id": "RuZ9MYkRS9RP",
        "colab": {
          "base_uri": "https://localhost:8080/",
          "height": 282
        },
        "outputId": "dcf0ecb9-9362-4bd7-99d0-4f874f4c06a1"
      },
      "source": [
        "suiveur_suivi(etiquettes, m)"
      ],
      "execution_count": 161,
      "outputs": [
        {
          "output_type": "error",
          "ename": "TypeError",
          "evalue": "ignored",
          "traceback": [
            "\u001b[0;31m---------------------------------------------------------------------------\u001b[0m",
            "\u001b[0;31mTypeError\u001b[0m                                 Traceback (most recent call last)",
            "\u001b[0;32m<ipython-input-161-88ee44cd5609>\u001b[0m in \u001b[0;36m<module>\u001b[0;34m()\u001b[0m\n\u001b[0;32m----> 1\u001b[0;31m \u001b[0msuiveur_suivi\u001b[0m\u001b[0;34m(\u001b[0m\u001b[0metiquettes\u001b[0m\u001b[0;34m,\u001b[0m \u001b[0mm\u001b[0m\u001b[0;34m)\u001b[0m\u001b[0;34m\u001b[0m\u001b[0;34m\u001b[0m\u001b[0m\n\u001b[0m",
            "\u001b[0;32m<ipython-input-160-ebfc29221f11>\u001b[0m in \u001b[0;36msuiveur_suivi\u001b[0;34m(liste, matrice)\u001b[0m\n\u001b[1;32m      3\u001b[0m   \u001b[0mdico\u001b[0m\u001b[0;34m=\u001b[0m\u001b[0;34m{\u001b[0m\u001b[0;34m}\u001b[0m\u001b[0;34m\u001b[0m\u001b[0;34m\u001b[0m\u001b[0m\n\u001b[1;32m      4\u001b[0m   \u001b[0;32mfor\u001b[0m \u001b[0mj\u001b[0m \u001b[0;32min\u001b[0m \u001b[0mrange\u001b[0m\u001b[0;34m(\u001b[0m\u001b[0mlen\u001b[0m\u001b[0;34m(\u001b[0m\u001b[0mliste\u001b[0m\u001b[0;34m)\u001b[0m\u001b[0;34m)\u001b[0m\u001b[0;34m:\u001b[0m\u001b[0;34m\u001b[0m\u001b[0;34m\u001b[0m\u001b[0m\n\u001b[0;32m----> 5\u001b[0;31m     \u001b[0mdico\u001b[0m\u001b[0;34m[\u001b[0m\u001b[0mliste\u001b[0m\u001b[0;34m[\u001b[0m\u001b[0mj\u001b[0m\u001b[0;34m]\u001b[0m\u001b[0;34m]\u001b[0m\u001b[0;34m=\u001b[0m\u001b[0;36m0\u001b[0m\u001b[0;34m,\u001b[0m\u001b[0;36m0\u001b[0m\u001b[0;34m,\u001b[0m \u001b[0;36m0\u001b[0m\u001b[0;34m\u001b[0m\u001b[0;34m\u001b[0m\u001b[0m\n\u001b[0m\u001b[1;32m      6\u001b[0m   \u001b[0;32mfor\u001b[0m \u001b[0mi\u001b[0m \u001b[0;32min\u001b[0m \u001b[0mrange\u001b[0m\u001b[0;34m(\u001b[0m\u001b[0mlen\u001b[0m\u001b[0;34m(\u001b[0m\u001b[0mliste\u001b[0m\u001b[0;34m)\u001b[0m\u001b[0;34m)\u001b[0m\u001b[0;34m:\u001b[0m\u001b[0;34m\u001b[0m\u001b[0;34m\u001b[0m\u001b[0m\n\u001b[1;32m      7\u001b[0m     \u001b[0;32mfor\u001b[0m \u001b[0mk\u001b[0m \u001b[0;32min\u001b[0m \u001b[0mrange\u001b[0m\u001b[0;34m(\u001b[0m\u001b[0mlen\u001b[0m\u001b[0;34m(\u001b[0m\u001b[0mmatrice\u001b[0m\u001b[0;34m)\u001b[0m\u001b[0;34m)\u001b[0m\u001b[0;34m:\u001b[0m\u001b[0;34m\u001b[0m\u001b[0;34m\u001b[0m\u001b[0m\n",
            "\u001b[0;31mTypeError\u001b[0m: unhashable type: 'list'"
          ]
        }
      ]
    },
    {
      "cell_type": "code",
      "metadata": {
        "id": "wVEUaPqoS9RQ"
      },
      "source": [
        ""
      ],
      "execution_count": null,
      "outputs": []
    },
    {
      "cell_type": "markdown",
      "metadata": {
        "id": "GVroeqyyS9RQ"
      },
      "source": [
        "### C.2.1 - Comment constituer la liste des successeurs / prédécesseurs       :   "
      ]
    },
    {
      "cell_type": "code",
      "metadata": {
        "id": "Ks2VobogS9RR"
      },
      "source": [
        ""
      ],
      "execution_count": null,
      "outputs": []
    },
    {
      "cell_type": "code",
      "metadata": {
        "id": "Wpj17PMeS9RR"
      },
      "source": [
        "def matrice_liste(liste, matrice ):\n",
        "    pass"
      ],
      "execution_count": null,
      "outputs": []
    },
    {
      "cell_type": "code",
      "metadata": {
        "id": "u-9K2BjCS9RR"
      },
      "source": [
        ""
      ],
      "execution_count": null,
      "outputs": []
    },
    {
      "cell_type": "markdown",
      "metadata": {
        "id": "oUfFDafUS9RS"
      },
      "source": [
        "### C.2.2 - Générer la matrice d'adjacence à partir d'une liste d'adjacence :  "
      ]
    },
    {
      "cell_type": "code",
      "metadata": {
        "id": "5A7o1QVkS9RS"
      },
      "source": [
        "def liste_matrice(graphe) :\n",
        "    pass"
      ],
      "execution_count": null,
      "outputs": []
    },
    {
      "cell_type": "code",
      "metadata": {
        "id": "G4P55HyvS9RS"
      },
      "source": [
        ""
      ],
      "execution_count": null,
      "outputs": []
    }
  ]
}